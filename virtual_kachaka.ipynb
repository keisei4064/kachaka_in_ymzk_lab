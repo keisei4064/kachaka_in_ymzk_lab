{
 "cells": [
  {
   "cell_type": "code",
   "execution_count": 1,
   "metadata": {},
   "outputs": [],
   "source": [
    "from kachaka_base import *\n",
    "import pickle\n",
    "import time"
   ]
  },
  {
   "cell_type": "code",
   "execution_count": 2,
   "metadata": {},
   "outputs": [],
   "source": [
    "class VirtualKachaka(KachakaBase):\n",
    "    def __init__(self, data_num):\n",
    "        self.path = \"data/sensor_data\" + data_num + \"/\"\n",
    "        self.update_sensor_data()\n",
    "\n",
    "    def move_to_pose(self, distination: Pose):\n",
    "        pass\n",
    "\n",
    "    def is_moving_finished(self):\n",
    "        pass\n",
    "\n",
    "    def update_sensor_data(self):\n",
    "        ratio = 1000\n",
    "        with open(self.path + \"position.pkl\", \"rb\") as file:\n",
    "            position = pickle.load(file)\n",
    "\n",
    "        self.pose = Pose(\n",
    "            position[\"x\"] * ratio, position[\"y\"] * ratio, position[\"theta\"]\n",
    "        )\n",
    "\n",
    "        with open(self.path + \"theta.pkl\", \"rb\") as file:\n",
    "            theta = pickle.load(file)\n",
    "\n",
    "        with open(self.path + \"dist.pkl\", \"rb\") as file:\n",
    "            dist = pickle.load(file)\n",
    "\n",
    "        self.lidar_data = LidarData(dist, theta, self.pose)\n"
   ]
  },
  {
   "cell_type": "code",
   "execution_count": 3,
   "metadata": {},
   "outputs": [
    {
     "name": "stdout",
     "output_type": "stream",
     "text": [
      "Using matplotlib backend: <object object at 0x0000019597077550>\n",
      "センサ情報を更新します\n",
      "箱の前まで移動します\n",
      "箱の色を読みとります\n",
      "青の箱を検出しました\n",
      "箱を運ぶ経路を生成します\n",
      "箱を運ぶ経路を生成します\n",
      "箱を運ぶ経路を生成します\n",
      "箱を運ぶ経路を生成します\n",
      "箱を運ぶ経路を生成します\n",
      "箱を運ぶ経路を生成します\n",
      "箱を運ぶ経路を生成します\n",
      "箱を運ぶ経路を生成します\n",
      "箱を運ぶ経路を生成します\n",
      "箱を運ぶ経路を生成します\n",
      "箱を運ぶ経路を生成します\n",
      "箱を運ぶ経路を生成します\n",
      "箱を運ぶ経路を生成します\n",
      "箱を運ぶ経路を生成します\n",
      "箱を運ぶ経路を生成します\n",
      "箱を運ぶ経路を生成します\n",
      "箱を運ぶ経路を生成します\n",
      "箱を運ぶ経路を生成します\n",
      "箱を運ぶ経路を生成します\n",
      "箱を運ぶ経路を生成します\n",
      "箱を運ぶ経路を生成します\n",
      "箱を運ぶ経路を生成します\n",
      "箱を運ぶ経路を生成します\n",
      "箱を運ぶ経路を生成します\n",
      "箱を運ぶ経路を生成します\n",
      "箱を運ぶ経路を生成します\n",
      "箱を運ぶ経路を生成します\n",
      "箱を運ぶ経路を生成します\n",
      "箱を運ぶ経路を生成します\n",
      "箱を運ぶ経路を生成します\n",
      "箱を運ぶ経路を生成します\n",
      "箱を運ぶ経路を生成します\n",
      "箱を運ぶ経路を生成します\n",
      "箱を運ぶ経路を生成します\n",
      "箱を運ぶ経路を生成します\n",
      "箱を運ぶ経路を生成します\n",
      "箱を運ぶ経路を生成します\n",
      "箱を運ぶ経路を生成します\n",
      "箱を運ぶ経路を生成します\n",
      "箱を運ぶ経路を生成します\n",
      "箱を運ぶ経路を生成します\n",
      "箱を運ぶ経路を生成します\n"
     ]
    },
    {
     "ename": "KeyboardInterrupt",
     "evalue": "",
     "output_type": "error",
     "traceback": [
      "\u001b[1;31m---------------------------------------------------------------------------\u001b[0m",
      "\u001b[1;31mKeyboardInterrupt\u001b[0m                         Traceback (most recent call last)",
      "\u001b[1;32mc:\\Users\\keise\\OneDrive - 信州大学\\授業\\3年\\後期\\機械システム工学プロジェクト\\kachaka_at_ymzk_lab\\virtual_kachaka.ipynb Cell 3\u001b[0m line \u001b[0;36m3\n\u001b[0;32m     <a href='vscode-notebook-cell:/c%3A/Users/keise/OneDrive%20-%20%E4%BF%A1%E5%B7%9E%E5%A4%A7%E5%AD%A6/%E6%8E%88%E6%A5%AD/3%E5%B9%B4/%E5%BE%8C%E6%9C%9F/%E6%A9%9F%E6%A2%B0%E3%82%B7%E3%82%B9%E3%83%86%E3%83%A0%E5%B7%A5%E5%AD%A6%E3%83%97%E3%83%AD%E3%82%B8%E3%82%A7%E3%82%AF%E3%83%88/kachaka_at_ymzk_lab/virtual_kachaka.ipynb#W2sZmlsZQ%3D%3D?line=31'>32</a>\u001b[0m controller\u001b[39m.\u001b[39mupdate()\n\u001b[0;32m     <a href='vscode-notebook-cell:/c%3A/Users/keise/OneDrive%20-%20%E4%BF%A1%E5%B7%9E%E5%A4%A7%E5%AD%A6/%E6%8E%88%E6%A5%AD/3%E5%B9%B4/%E5%BE%8C%E6%9C%9F/%E6%A9%9F%E6%A2%B0%E3%82%B7%E3%82%B9%E3%83%86%E3%83%A0%E5%B7%A5%E5%AD%A6%E3%83%97%E3%83%AD%E3%82%B8%E3%82%A7%E3%82%AF%E3%83%88/kachaka_at_ymzk_lab/virtual_kachaka.ipynb#W2sZmlsZQ%3D%3D?line=32'>33</a>\u001b[0m plotter\u001b[39m.\u001b[39mupdate(\u001b[39mmap\u001b[39m, box, kachaka, controller\u001b[39m.\u001b[39mpath)\n\u001b[1;32m---> <a href='vscode-notebook-cell:/c%3A/Users/keise/OneDrive%20-%20%E4%BF%A1%E5%B7%9E%E5%A4%A7%E5%AD%A6/%E6%8E%88%E6%A5%AD/3%E5%B9%B4/%E5%BE%8C%E6%9C%9F/%E6%A9%9F%E6%A2%B0%E3%82%B7%E3%82%B9%E3%83%86%E3%83%A0%E5%B7%A5%E5%AD%A6%E3%83%97%E3%83%AD%E3%82%B8%E3%82%A7%E3%82%AF%E3%83%88/kachaka_at_ymzk_lab/virtual_kachaka.ipynb#W2sZmlsZQ%3D%3D?line=33'>34</a>\u001b[0m time\u001b[39m.\u001b[39;49msleep(\u001b[39m0.1\u001b[39;49m)\n",
      "\u001b[1;31mKeyboardInterrupt\u001b[0m: "
     ]
    },
    {
     "ename": "",
     "evalue": "",
     "output_type": "error",
     "traceback": [
      "\u001b[1;31mThe Kernel crashed while executing code in the the current cell or a previous cell. Please review the code in the cell(s) to identify a possible cause of the failure. Click <a href='https://aka.ms/vscodeJupyterKernelCrash'>here</a> for more info. View Jupyter <a href='command:jupyter.viewOutput'>log</a> for further details."
     ]
    }
   ],
   "source": [
    "%matplotlib\n",
    "# %matplotlib ipympl\n",
    "\n",
    "# 初期化 -------------------------------------------------------------\n",
    "initial_box_pose = Pose(1000, 1000, 0)\n",
    "red_box_goal = Pose(1700, -500, 0)\n",
    "blue_box_goal = Pose(250, 1500, 0)\n",
    "box = Box(initial_box_pose)\n",
    "kachaka = VirtualKachaka(\"5\")\n",
    "map = GridMap(\n",
    "    Size(2340, 2890),\n",
    "    grid_size=Size(150, 150),\n",
    "    origin_offset=Pose(400, 950, 0),\n",
    "    start=Pose(-200, 0, 0),\n",
    "    initial_box_pose=initial_box_pose,\n",
    "    red_box_goal=red_box_goal,\n",
    "    blue_box_goal=blue_box_goal,\n",
    ")\n",
    "logger = TextLogger()\n",
    "path_planner = StraightPathPlanner()\n",
    "controller = Controller(kachaka, box, map, path_planner, logger)\n",
    "\n",
    "(x_lim, y_lim) = map.get_axes_lim()\n",
    "# 表示マージン確保\n",
    "margin = 1000\n",
    "x_lim = (x_lim[0] - margin, x_lim[1] + margin)\n",
    "y_lim = (y_lim[0] - margin, y_lim[1] + margin)\n",
    "plotter = Plotter(x_lim, y_lim)\n",
    "\n",
    "# メインループ ---------------------------------------------------------\n",
    "while True:\n",
    "    controller.update()\n",
    "    plotter.update(map, box, kachaka, controller.path)\n",
    "    time.sleep(0.1)"
   ]
  },
  {
   "cell_type": "code",
   "execution_count": null,
   "metadata": {},
   "outputs": [],
   "source": []
  }
 ],
 "metadata": {
  "kernelspec": {
   "display_name": "Python 3",
   "language": "python",
   "name": "python3"
  },
  "language_info": {
   "codemirror_mode": {
    "name": "ipython",
    "version": 3
   },
   "file_extension": ".py",
   "mimetype": "text/x-python",
   "name": "python",
   "nbconvert_exporter": "python",
   "pygments_lexer": "ipython3",
   "version": "3.12.0"
  }
 },
 "nbformat": 4,
 "nbformat_minor": 2
}
