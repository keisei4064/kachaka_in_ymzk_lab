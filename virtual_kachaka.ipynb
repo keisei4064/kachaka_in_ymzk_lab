{
 "cells": [
  {
   "cell_type": "code",
   "execution_count": 19,
   "metadata": {},
   "outputs": [
    {
     "data": {
      "text/plain": [
       "<module 'kachaka_base' from 'c:\\\\Users\\\\keise\\\\OneDrive - 信州大学\\\\授業\\\\3年\\\\後期\\\\機械システム工学プロジェクト\\\\kachaka_at_ymzk_lab\\\\kachaka_base.py'>"
      ]
     },
     "execution_count": 19,
     "metadata": {},
     "output_type": "execute_result"
    }
   ],
   "source": [
    "import kachaka_base as base\n",
    "import pickle\n",
    "import time\n",
    "import importlib\n",
    "importlib.reload(base)"
   ]
  },
  {
   "cell_type": "code",
   "execution_count": 20,
   "metadata": {},
   "outputs": [],
   "source": [
    "from kachaka_base import BoxColor\n",
    "\n",
    "\n",
    "class VirtualKachaka(base.KachakaBase):\n",
    "    def __init__(self, data_num):\n",
    "        self.path = \"data/sensor_data\" + data_num + \"/\"\n",
    "        self.update_sensor_data()\n",
    "        \n",
    "        ratio = 1000\n",
    "        with open(self.path + \"position.pkl\", \"rb\") as file:\n",
    "            position = pickle.load(file)\n",
    "\n",
    "        self.pose = base.Pose(\n",
    "            position[\"x\"] * ratio, position[\"y\"] * ratio, position[\"theta\"]\n",
    "        )\n",
    "\n",
    "        with open(self.path + \"theta.pkl\", \"rb\") as file:\n",
    "            theta = pickle.load(file)\n",
    "\n",
    "        with open(self.path + \"dist.pkl\", \"rb\") as file:\n",
    "            dist = pickle.load(file)\n",
    "\n",
    "        self.lidar_data = base.LidarData(dist, theta, self.pose)\n",
    "\n",
    "    def move_to_pose(self, distination: base.Pose):\n",
    "        time.sleep(0.3)\n",
    "        self.pose = distination\n",
    "\n",
    "    def update_sensor_data(self):\n",
    "        pass\n",
    "\n",
    "    def recognize_box_color(self) -> BoxColor:\n",
    "        # 仮実装　赤のみ\n",
    "        return BoxColor.RED"
   ]
  },
  {
   "cell_type": "code",
   "execution_count": 21,
   "metadata": {},
   "outputs": [
    {
     "name": "stdout",
     "output_type": "stream",
     "text": [
      "Using matplotlib backend: TkAgg\n",
      "センサ情報を更新します\n",
      "箱の前まで移動します\n",
      "箱の色を読みとります\n",
      "   赤の箱を検出しました\n",
      "箱を運ぶ経路を生成します\n",
      "現在位置から箱運搬経路のスタートまでの経路を生成します\n",
      "経路を辿ります\n",
      "経路を辿ります\n",
      "経路を辿ります\n",
      "経路を辿ります\n",
      "経路を辿ります\n",
      "経路を辿ります\n",
      "経路を辿ります\n",
      "経路を辿ります\n",
      "経路を辿ります\n",
      "経路を辿ります\n",
      "経路を辿ります\n",
      "経路を辿ります\n",
      "経路を辿ります\n",
      "経路を辿ります\n",
      "経路を辿ります\n",
      "経路を辿ります\n",
      "経路を辿ります\n",
      "経路を辿ります\n",
      "経路を辿ります\n",
      "経路を辿ります\n",
      "経路を辿ります\n",
      "経路を辿ります\n",
      "経路を辿ります\n",
      "経路を辿ります\n",
      "経路を辿ります\n",
      "タスクが完了しました\n"
     ]
    },
    {
     "ename": "SystemExit",
     "evalue": "正常終了",
     "output_type": "error",
     "traceback": [
      "An exception has occurred, use %tb to see the full traceback.\n",
      "\u001b[1;31mSystemExit\u001b[0m\u001b[1;31m:\u001b[0m 正常終了\n"
     ]
    },
    {
     "name": "stderr",
     "output_type": "stream",
     "text": [
      "C:\\Users\\keise\\AppData\\Roaming\\Python\\Python312\\site-packages\\IPython\\core\\interactiveshell.py:3534: UserWarning: To exit: use 'exit', 'quit', or Ctrl-D.\n",
      "  warn(\"To exit: use 'exit', 'quit', or Ctrl-D.\", stacklevel=1)\n"
     ]
    }
   ],
   "source": [
    "%matplotlib\n",
    "# %matplotlib ipympl\n",
    "\n",
    "# 初期化 -------------------------------------------------------------\n",
    "initial_box_pose = base.Pose(1000, 1000, 0)\n",
    "red_box_goal = base.Pose(1700, -500, 0)\n",
    "blue_box_goal = base.Pose(250, 1500, 0)\n",
    "box = base.Box(initial_box_pose)\n",
    "kachaka = VirtualKachaka(\"5\")\n",
    "map = base.GridMap(\n",
    "    base.Size(2340, 2890),\n",
    "    grid_size=base.Size(150, 150),\n",
    "    origin_offset=base.Pose(400, 950, 0),\n",
    "    start=base.Pose(-200, 0, 0),\n",
    "    initial_box_pose=initial_box_pose,\n",
    "    red_box_goal=red_box_goal,\n",
    "    blue_box_goal=blue_box_goal,\n",
    ")\n",
    "logger = base.TextLogger()\n",
    "trajectory_planner = base.StraightTrajectoryPlanner()\n",
    "controller = base.Controller(kachaka, box, map, trajectory_planner, logger)\n",
    "\n",
    "(x_lim, y_lim) = map.get_axes_lim()\n",
    "margin = 500 # 表示マージン確保\n",
    "x_lim = (x_lim[0] - margin, x_lim[1] + margin)\n",
    "y_lim = (y_lim[0] - margin, y_lim[1] + margin)\n",
    "plotter = base.Plotter(x_lim, y_lim)\n",
    "\n",
    "kachaka.pose = base.Pose(0,0,0)\n",
    "\n",
    "# メインループ ---------------------------------------------------------\n",
    "while True:\n",
    "    plotter.update(map, box, kachaka, controller.trajectory)\n",
    "    controller.update()\n",
    "    # time.sleep(1.0)"
   ]
  },
  {
   "cell_type": "code",
   "execution_count": null,
   "metadata": {},
   "outputs": [],
   "source": []
  }
 ],
 "metadata": {
  "kernelspec": {
   "display_name": "Python 3",
   "language": "python",
   "name": "python3"
  },
  "language_info": {
   "codemirror_mode": {
    "name": "ipython",
    "version": 3
   },
   "file_extension": ".py",
   "mimetype": "text/x-python",
   "name": "python",
   "nbconvert_exporter": "python",
   "pygments_lexer": "ipython3",
   "version": "3.12.0"
  }
 },
 "nbformat": 4,
 "nbformat_minor": 2
}
